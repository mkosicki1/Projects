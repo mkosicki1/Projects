{
 "cells": [
  {
   "cell_type": "code",
   "execution_count": 3,
   "metadata": {},
   "outputs": [],
   "source": [
    "import pandas as pd\n",
    "# from sklearn import \n",
    "url = \"https://archive.ics.uci.edu/ml/machine-learning-databases/tic-tac-toe/tic-tac-toe.data\"\n",
    "names = [\n",
    "    'top-left-square',\n",
    "    'top-middle-square',\n",
    "    'top-right-square',\n",
    "    'middle-left-square',\n",
    "    'middle-middle-square',\n",
    "    'middle-right-square',\n",
    "    'bottom-left-square',\n",
    "    'bottom-middle-square',\n",
    "    'bottom-right-square',\n",
    "    'class'\n",
    "]\n",
    "df = pd.read_csv(url, names=names)"
   ]
  },
  {
   "cell_type": "code",
   "execution_count": 4,
   "metadata": {},
   "outputs": [
    {
     "name": "stdout",
     "output_type": "stream",
     "text": [
      "              precision    recall  f1-score   support\n",
      "\n",
      "           0       0.98      0.96      0.97        83\n",
      "           1       0.98      0.99      0.98       157\n",
      "\n",
      "    accuracy                           0.98       240\n",
      "   macro avg       0.98      0.98      0.98       240\n",
      "weighted avg       0.98      0.98      0.98       240\n",
      "\n"
     ]
    }
   ],
   "source": [
    "df.head()\n",
    "df['class'].value_counts() # pozytywnych jest więcej niż negatywnych, trzeba raczej liczyć f1 niż accuracy\n",
    "df['class'][df['class'] == 'positive'] = 1\n",
    "df['class'][df['class'] == 'negative'] = 0\n",
    "\n",
    "# pierwsze podejście - drzewo decyzyjne\n",
    "from sklearn.model_selection import train_test_split\n",
    "from sklearn.model_selection import cross_val_score\n",
    "from sklearn.tree import DecisionTreeClassifier\n",
    "from sklearn.neural_network import MLPClassifier\n",
    "import numpy as np\n",
    "from sklearn.preprocessing import OneHotEncoder\n",
    "from sklearn.preprocessing import LabelEncoder\n",
    "\n",
    "x = df.loc[:, names[:-1]].values\n",
    "y = df.loc[:, names[-1]].values\n",
    "\n",
    "# konwersja z kategorycznych do numerycznych\n",
    "enc = OneHotEncoder()\n",
    "enc.fit(x)\n",
    "x = enc.transform(x)\n",
    "\n",
    "# encode y jako label\n",
    "label_enc = LabelEncoder()\n",
    "y = label_enc.fit_transform(y)\n",
    "\n",
    "# przygotowanie próby uczącej, próby testowej\n",
    "x_train, x_test, y_train, y_test = train_test_split(x, y)\n",
    "# classifier = DecisionTreeClassifier(max_depth=5)\n",
    "classifier = MLPClassifier(hidden_layer_sizes=(10, 10, 10), max_iter=1000)\n",
    "\n",
    "# wytrenować na uczącej\n",
    "classifier.fit(x_train, y_train)\n",
    "\n",
    "# predict na testowej\n",
    "y_pred = classifier.predict(x_test)\n",
    "\n",
    "# zbadać miary skutecznośći\n",
    "from sklearn.metrics import classification_report\n",
    "print(classification_report(y_test, y_pred))\n",
    "\n",
    "from sklearn.tree import plot_tree\n",
    "from matplotlib import pyplot as plt\n",
    "# fig = plt.figure(figsize=(20,20))\n",
    "# plot_tree(tree,  filled=True)\n",
    "# plt.show()\n"
   ]
  },
  {
   "cell_type": "code",
   "execution_count": 21,
   "metadata": {},
   "outputs": [
    {
     "name": "stdout",
     "output_type": "stream",
     "text": [
      "[1]\n"
     ]
    }
   ],
   "source": [
    "# board = ['o','o','x','x','x','o','o','x','x']\n",
    "board = ['x','b','o','o','x','b','b','b','x']\n",
    "x_new = np.array(board).reshape(1, 9)\n",
    "x_new = enc.transform(x_new)\n",
    "y = classifier.predict(x_new)\n",
    "print(y)"
   ]
  }
 ],
 "metadata": {
  "kernelspec": {
   "display_name": "Python 3",
   "language": "python",
   "name": "python3"
  },
  "language_info": {
   "codemirror_mode": {
    "name": "ipython",
    "version": 3
   },
   "file_extension": ".py",
   "mimetype": "text/x-python",
   "name": "python",
   "nbconvert_exporter": "python",
   "pygments_lexer": "ipython3",
   "version": "3.7.4"
  }
 },
 "nbformat": 4,
 "nbformat_minor": 2
}
